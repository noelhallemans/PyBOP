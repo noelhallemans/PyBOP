{
 "cells": [
  {
   "cell_type": "markdown",
   "metadata": {},
   "source": [
    "# Loading Battery Cycler Data to PyBOP\n",
    "\n",
    "This notebook provides example on how to load battery cycler data without any pre-processing and save it so that this data can be used to run simulations using PyBOP.\n",
    "\n",
    "### Setting up the Environment\n",
    "\n",
    "Before we begin, we need to ensure that we have all the necessary tools. In this example, we use CellPy (https://doi.org/10.21105/joss.06236) to load cycler data. More information can be found here: https://github.com/jepegit/cellpy."
   ]
  },
  {
   "cell_type": "code",
   "execution_count": null,
   "metadata": {},
   "outputs": [],
   "source": [
    "%pip install --upgrade pip ipywidgets openpyxl pandas -q\n",
    "%pip install pybop -q\n",
    "\n",
    "%pip install cellpy -q\n",
    "\n",
    "\n",
    "import pathlib\n",
    "\n",
    "import cellpy\n",
    "from cellpy.utils import plotutils"
   ]
  },
  {
   "cell_type": "markdown",
   "metadata": {},
   "source": [
    "In this example, we use data in csv format. However, the same can be extended for other data formats as well. We use custom_instrument_1.yml file to read and process this datafile. User may need to edit the instrument file depending on their specific data format. Here, we use data from the following source:   \n",
    "`Kollmeyer, Phillip; Skells, Michael (2020), “Samsung INR21700 30T 3Ah Li-ion Battery Data”, Mendeley Data, V1, doi: 10.17632/9xyvy2njj3.1` dataset."
   ]
  },
  {
   "cell_type": "code",
   "execution_count": null,
   "metadata": {},
   "outputs": [],
   "source": [
    "filedir = pathlib.Path(\"../../data/cycler_data\")\n",
    "instrument_file = filedir / \"custom_instrument_1.yml\"\n",
    "c = cellpy.get(filedir / \"custom_data.csv\", instrument=\"custom\", instrument_file=instrument_file)"
   ]
  },
  {
   "cell_type": "markdown",
   "metadata": {},
   "source": [
    "To see the metadata which contains cell details, batch information etc., we can use the following commnad."
   ]
  },
  {
   "cell_type": "code",
   "execution_count": null,
   "metadata": {},
   "outputs": [],
   "source": [
    "c.data.raw.head(2)"
   ]
  },
  {
   "cell_type": "code",
   "execution_count": null,
   "metadata": {},
   "outputs": [],
   "source": [
    "# In-built plot function of CellPy can be used to visualize the data.\n",
    "plotutils.raw_plot(c, title=\"Voltage vs time\")"
   ]
  },
  {
   "cell_type": "code",
   "execution_count": null,
   "metadata": {},
   "outputs": [],
   "source": [
    "# To see all the column names of the datafile\n",
    "print(c.data.summary.columns)"
   ]
  },
  {
   "cell_type": "markdown",
   "metadata": {},
   "source": [
    "Now from the raw data, we can extract necessary parameters that we may need to use later in PyBOP. For example, we save time, current, and voltage data."
   ]
  },
  {
   "cell_type": "code",
   "execution_count": null,
   "metadata": {},
   "outputs": [],
   "source": [
    "# To access specific data columns\n",
    "time = c.get_timestamp()[\"test_time\"].to_numpy()\n",
    "voltage = c.get_voltage()[\"voltage\"].to_numpy()\n",
    "current = c.get_current()[\"current\"].to_numpy()\n",
    "\n",
    "# To save the data uncomment the following lines when running in local machine\n",
    "\"\"\" np.savetxt('time.csv', time, delimiter=\",\")\n",
    "np.savetxt('current.csv', current, delimiter=\",\")\n",
    "np.savetxt('voltage.csv', voltage, delimiter=\",\") \"\"\"\n"
   ]
  }
 ],
 "metadata": {
  "kernelspec": {
   "display_name": ".venv",
   "language": "python",
   "name": "python3"
  },
  "language_info": {
   "codemirror_mode": {
    "name": "ipython",
    "version": 3
   },
   "file_extension": ".py",
   "mimetype": "text/x-python",
   "name": "python",
   "nbconvert_exporter": "python",
   "pygments_lexer": "ipython3",
   "version": "3.10.12"
  }
 },
 "nbformat": 4,
 "nbformat_minor": 2
}
